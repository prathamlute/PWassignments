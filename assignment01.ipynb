{
 "cells": [
  {
   "cell_type": "markdown",
   "id": "32fd83a2-eb3b-4370-b202-0139b41a92cb",
   "metadata": {},
   "source": [
    "Q1. Create one variable containing following type of data:\n",
    "(i) string\n",
    "(ii) list\n",
    "(iii) float\n",
    "(iv) tuple\n"
   ]
  },
  {
   "cell_type": "code",
   "execution_count": 2,
   "id": "ac57c6a8-aa50-439b-8d30-7e41298e6b53",
   "metadata": {},
   "outputs": [],
   "source": [
    "a =\"Pratham\"\n",
    "b=[12,34,\"Lute\",2.4]\n",
    "c=12.456\n",
    "d=(1,2,5,7)\n"
   ]
  },
  {
   "cell_type": "code",
   "execution_count": 3,
   "id": "9af26a29-dc16-4d24-a1af-645c18097f2b",
   "metadata": {},
   "outputs": [
    {
     "name": "stdout",
     "output_type": "stream",
     "text": [
      "<class 'str'>\n",
      "<class 'list'>\n",
      "<class 'float'>\n",
      "<class 'tuple'>\n"
     ]
    }
   ],
   "source": [
    "print(type(a))\n",
    "print(type(b))\n",
    "print(type(c))\n",
    "print(type(d))"
   ]
  },
  {
   "cell_type": "markdown",
   "id": "590fef24-f401-47c5-83ff-bf613e23f1ee",
   "metadata": {},
   "source": [
    "Q2. Given are some following variables containing data:\n",
    "(i) var1 = ‘ ‘\n",
    "(ii) var2 = ‘[ DS , ML , Python]’\n",
    "(iii) var3 = [ ‘DS’ , ’ML’ , ‘Python’ ]\n",
    "(iv) var4 = 1.\n",
    "What will be the data type of the above given variable."
   ]
  },
  {
   "cell_type": "code",
   "execution_count": 1,
   "id": "9b00921c-3efd-418f-be51-9a3376a0e008",
   "metadata": {},
   "outputs": [
    {
     "name": "stdout",
     "output_type": "stream",
     "text": [
      "<class 'str'>\n",
      "<class 'str'>\n",
      "<class 'list'>\n",
      "<class 'int'>\n"
     ]
    }
   ],
   "source": [
    "var1 = ''\n",
    "var2 = '[DS,ML,Python]'\n",
    "var3 = ['DS','ML','Python']\n",
    "var4 = 1\n",
    "print(type(var1))\n",
    "print(type(var2))\n",
    "print(type(var3))\n",
    "print(type(var4))"
   ]
  },
  {
   "cell_type": "markdown",
   "id": "6e6b78f7-300a-43cc-b862-ff63b95f4da5",
   "metadata": {},
   "source": [
    "Q3. Explain the use of the following operators using an example:\n",
    "(i) /\n",
    "(ii) %\n",
    "(iii) //\n",
    "(iv) **"
   ]
  },
  {
   "cell_type": "code",
   "execution_count": 3,
   "id": "2aa65248-e44e-442f-aa8c-8aa1034af8ac",
   "metadata": {},
   "outputs": [
    {
     "name": "stdout",
     "output_type": "stream",
     "text": [
      "0.5\n",
      "2\n",
      "0\n",
      "16\n"
     ]
    }
   ],
   "source": [
    "a=2\n",
    "b=4\n",
    "#for '/'\n",
    "c = a/b\n",
    "print(c)\n",
    "    \n",
    "#for '%'\n",
    "d =a % b\n",
    "print(d)\n",
    "\n",
    "#for '//'\n",
    "e = a // b\n",
    "print(e)\n",
    "\n",
    "# for '**'\n",
    "f = a ** b\n",
    "print(f)"
   ]
  },
  {
   "cell_type": "markdown",
   "id": "ee71fcf2-aa33-444a-a2d7-ce17d66204ed",
   "metadata": {},
   "source": [
    "Q4. Create a list of length 10 of your choice containing multiple types of data. Using for loop print the\n",
    "element and its data type."
   ]
  },
  {
   "cell_type": "code",
   "execution_count": 7,
   "id": "19b11a43-ab02-4da2-b92a-04c442c14908",
   "metadata": {},
   "outputs": [
    {
     "name": "stdout",
     "output_type": "stream",
     "text": [
      "Hello -: Datatype -: <class 'str'>\n",
      "2 -: Datatype -: <class 'int'>\n",
      "2.34 -: Datatype -: <class 'float'>\n",
      "pratham -: Datatype -: <class 'str'>\n",
      "True -: Datatype -: <class 'bool'>\n",
      "43 -: Datatype -: <class 'int'>\n",
      "[1, 2, 3] -: Datatype -: <class 'list'>\n",
      "{'Name': 'Pratham'} -: Datatype -: <class 'dict'>\n",
      "None -: Datatype -: <class 'NoneType'>\n",
      "7.2 -: Datatype -: <class 'float'>\n"
     ]
    }
   ],
   "source": [
    "list = [\"Hello\",2,2.34,'pratham',True,43,[1,2,3],{'Name' : 'Pratham'},None,7.20]\n",
    "for i in list:\n",
    "    print(f\"{i} -: Datatype -: {type(i)}\")\n",
    "    \n"
   ]
  },
  {
   "cell_type": "markdown",
   "id": "76c01f7b-0669-40ba-b53d-89748584cf65",
   "metadata": {},
   "source": [
    "Q5. Using a while loop, verify if the number A is purely divisible by number B and if so then how many\n",
    "times it can be divisible."
   ]
  },
  {
   "cell_type": "code",
   "execution_count": 8,
   "id": "9b43c065-3df3-4aa0-9f36-d42bd5bdfca8",
   "metadata": {},
   "outputs": [
    {
     "name": "stdin",
     "output_type": "stream",
     "text": [
      "Enter the first number : 12\n",
      "Enter the second number : 3\n"
     ]
    },
    {
     "name": "stdout",
     "output_type": "stream",
     "text": [
      " The number 12 is divisible by 3 , 1 times. \n"
     ]
    }
   ],
   "source": [
    "def is_divisible(a,b):\n",
    "    count = 0\n",
    "    while a % b == 0:\n",
    "        count += 1\n",
    "        a //= b\n",
    "    return count\n",
    "    \n",
    "a = int(input(\"Enter the first number :\"))\n",
    "b = int(input(\"Enter the second number :\"))\n",
    " \n",
    "number_of_times_divisible = is_divisible(a , b)\n",
    "\n",
    "if number_of_times_divisible > 0 :\n",
    "    print(f\" The number {a} is divisible by {b} , {number_of_times_divisible} times. \")\n",
    "els\n",
    "    print(f\" The number {a} is not divisible by {b}. \")\n"
   ]
  },
  {
   "cell_type": "markdown",
   "id": "c11fa4b0-3a82-46ca-affe-636dd800c93d",
   "metadata": {},
   "source": [
    "Q6. Create a list containing 25 int type data. Using for loop and if-else condition print if the element is\n",
    "divisible by 3 or not."
   ]
  },
  {
   "cell_type": "code",
   "execution_count": 11,
   "id": "d3a9d5a7-7931-4e71-94e0-066bf8bac912",
   "metadata": {},
   "outputs": [
    {
     "name": "stdout",
     "output_type": "stream",
     "text": [
      "3 is divisible by 3\n",
      "6 is divisible by 3\n",
      "9 is divisible by 3\n",
      "12 is divisible by 3\n",
      "15 is divisible by 3\n",
      "18 is divisible by 3\n",
      "21 is divisible by 3\n",
      "24 is divisible by 3\n",
      "25 is not divisible by 3 \n"
     ]
    }
   ],
   "source": [
    "num = [1,2,3,4,5,6,7,8,9,10,11,12,13,14,15,16,17,18,19,20,21,22,23,24,25,]\n",
    "for num in num :\n",
    "    if num % 3 == 0 :\n",
    "        print (f\"{num} is divisible by 3\")\n",
    "else:\n",
    "    print (f\"{num} is not divisible by 3 \")"
   ]
  },
  {
   "cell_type": "markdown",
   "id": "346aaebd-47ef-4880-b09c-91beccc52e9a",
   "metadata": {},
   "source": [
    "Q7. What do you understand about mutable and immutable data types? Give examples for both showing\n",
    "this property."
   ]
  },
  {
   "cell_type": "code",
   "execution_count": 13,
   "id": "2084059c-b713-4a7b-9548-6b8d87c1cdcc",
   "metadata": {},
   "outputs": [
    {
     "name": "stdout",
     "output_type": "stream",
     "text": [
      "[11, 12, 13]\n",
      "[15, 12, 13]\n"
     ]
    }
   ],
   "source": [
    "#mutable \n",
    "mylist = [11,12,13]\n",
    "print(mylist)\n",
    "mylist[0] = 15\n",
    "print(mylist)\n"
   ]
  },
  {
   "cell_type": "code",
   "execution_count": 14,
   "id": "96ae5df3-efe3-4e2e-b161-e5f374acad0d",
   "metadata": {},
   "outputs": [
    {
     "ename": "TypeError",
     "evalue": "'str' object does not support item assignment",
     "output_type": "error",
     "traceback": [
      "\u001b[0;31m---------------------------------------------------------------------------\u001b[0m",
      "\u001b[0;31mTypeError\u001b[0m                                 Traceback (most recent call last)",
      "Cell \u001b[0;32mIn[14], line 4\u001b[0m\n\u001b[1;32m      1\u001b[0m \u001b[38;5;66;03m#immutable\u001b[39;00m\n\u001b[1;32m      3\u001b[0m mystr \u001b[38;5;241m=\u001b[39m \u001b[38;5;124m'\u001b[39m\u001b[38;5;124mpratham\u001b[39m\u001b[38;5;124m'\u001b[39m\n\u001b[0;32m----> 4\u001b[0m \u001b[43mmystr\u001b[49m\u001b[43m[\u001b[49m\u001b[38;5;241;43m2\u001b[39;49m\u001b[43m]\u001b[49m \u001b[38;5;241m=\u001b[39m \u001b[38;5;124m'\u001b[39m\u001b[38;5;124mi\u001b[39m\u001b[38;5;124m'\u001b[39m\n\u001b[1;32m      5\u001b[0m \u001b[38;5;28mprint\u001b[39m(mystr)\n",
      "\u001b[0;31mTypeError\u001b[0m: 'str' object does not support item assignment"
     ]
    }
   ],
   "source": [
    "#immutable\n",
    "\n",
    "mystr = 'pratham'\n",
    "mystr[2] = 'i'\n",
    "print(mystr)"
   ]
  },
  {
   "cell_type": "code",
   "execution_count": null,
   "id": "6d4b1bce-4394-4c0c-8501-4786fe7a58bc",
   "metadata": {},
   "outputs": [],
   "source": []
  }
 ],
 "metadata": {
  "kernelspec": {
   "display_name": "Python 3 (ipykernel)",
   "language": "python",
   "name": "python3"
  },
  "language_info": {
   "codemirror_mode": {
    "name": "ipython",
    "version": 3
   },
   "file_extension": ".py",
   "mimetype": "text/x-python",
   "name": "python",
   "nbconvert_exporter": "python",
   "pygments_lexer": "ipython3",
   "version": "3.10.8"
  }
 },
 "nbformat": 4,
 "nbformat_minor": 5
}
