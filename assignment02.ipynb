{
 "cells": [
  {
   "cell_type": "raw",
   "id": "f78ad84a-1ec0-4077-8404-a2d4f6b7ee41",
   "metadata": {},
   "source": [
    "Q1. How do you comment code in Python? What are the different types of comments ?"
   ]
  },
  {
   "cell_type": "code",
   "execution_count": 1,
   "id": "849efbda-c9ad-4a8e-8918-39f9e18d23e3",
   "metadata": {},
   "outputs": [
    {
     "name": "stdout",
     "output_type": "stream",
     "text": [
      "There are two types of comment in python.\n",
      " Single line comment, \n",
      " Multi Line comment.\n"
     ]
    },
    {
     "data": {
      "text/plain": [
       "' This is Multi Line comment \\n It can span multiple lines. '"
      ]
     },
     "execution_count": 1,
     "metadata": {},
     "output_type": "execute_result"
    }
   ],
   "source": [
    "print(\"There are two types of comment in python.\\n Single line comment, \\n Multi Line comment.\")\n",
    "\n",
    "# This is single Line comment.\n",
    "\n",
    "\"\"\" This is Multi Line comment \n",
    " It can span multiple lines. \"\"\""
   ]
  },
  {
   "cell_type": "raw",
   "id": "ba509961-1802-4a2a-bde6-fe83bc385cb3",
   "metadata": {},
   "source": [
    "Q2. What are variables in Python? How do you declare and assign values to variables ?"
   ]
  },
  {
   "cell_type": "code",
   "execution_count": 2,
   "id": "e239f7a7-5c39-42ee-bd8d-89be671d8603",
   "metadata": {},
   "outputs": [
    {
     "name": "stdout",
     "output_type": "stream",
     "text": [
      "A variable in Python is a symbolic name that is a reference or pointer to an object. \n",
      "Once an object is assigned to a variable, you can refer to the object by that name. \n",
      "But the data itself is still contained within the object.\n",
      "\n",
      " 10\n"
     ]
    }
   ],
   "source": [
    "print('''A variable in Python is a symbolic name that is a reference or pointer to an object. \n",
    "Once an object is assigned to a variable, you can refer to the object by that name. \n",
    "But the data itself is still contained within the object.''')\n",
    "\n",
    "A = 10\n",
    "print(\"\\n\",A) # Here  10 value is assign to  varable \"a\""
   ]
  },
  {
   "cell_type": "raw",
   "id": "ce0d6728-4fab-4a44-b2ce-21f1e557b82c",
   "metadata": {},
   "source": [
    "Q3. How do you convert one data type to another in Python ?"
   ]
  },
  {
   "cell_type": "code",
   "execution_count": 4,
   "id": "ec54a5c6-6632-4697-8249-a47c23565ee4",
   "metadata": {},
   "outputs": [
    {
     "name": "stdout",
     "output_type": "stream",
     "text": [
      "<class 'int'>\n",
      "Integer Convert to Float 30.0\n",
      "<class 'list'>\n",
      " List Convert to tuple (22, 33.5, 'Lokesh', (55+7j), 9)\n",
      " List Convert to set  {33.5, 9, (55+7j), 22, 'Lokesh'}\n"
     ]
    }
   ],
   "source": [
    "a = 30 \n",
    "print(type(a))\n",
    "print(\"Integer Convert to Float\",float(a))\n",
    "l=[22,33.5,\"Lokesh\",55+7j,9]\n",
    "print(type(l))\n",
    "print(\" List Convert to tuple\",tuple(l))\n",
    "print(\" List Convert to set \",set(l))"
   ]
  },
  {
   "cell_type": "raw",
   "id": "8070d1bf-302f-4805-8a9e-c11e626d42a2",
   "metadata": {},
   "source": [
    "Q4. How do you write and execute a Python script from the command line ?"
   ]
  },
  {
   "cell_type": "code",
   "execution_count": 6,
   "id": "ef656dff-16f2-4be4-84d6-115fef7ebe2d",
   "metadata": {},
   "outputs": [
    {
     "name": "stdout",
     "output_type": "stream",
     "text": [
      "\n",
      "   1] Open a terminal window.\n",
      "    \n",
      "   2]Navigate to the directory where you want to save your Python script.\n",
      "   \n",
      "   3]Create a new file with a .py extension. For example: my_script.py\n",
      "   \n",
      "   4]Open the file in a text editor and write your Python code.\n",
      "   \n",
      "   5]Save the file.\n",
      "   \n",
      "   6]To execute the script, type the following command in the terminal window:\n",
      "    python my_script.py\n",
      "\n",
      "This will run the Python script and print the output to the console.\n"
     ]
    }
   ],
   "source": [
    "print('''\n",
    "   1] Open a terminal window.\n",
    "    \n",
    "   2]Navigate to the directory where you want to save your Python script.\n",
    "   \n",
    "   3]Create a new file with a .py extension. For example: my_script.py\n",
    "   \n",
    "   4]Open the file in a text editor and write your Python code.\n",
    "   \n",
    "   5]Save the file.\n",
    "   \n",
    "   6]To execute the script, type the following command in the terminal window:\n",
    "    python my_script.py\n",
    "\n",
    "This will run the Python script and print the output to the console.''')"
   ]
  },
  {
   "cell_type": "raw",
   "id": "cf4bfab7-30a0-434c-8ea0-082b0117128e",
   "metadata": {},
   "source": [
    "Q5. Given a list my_list = [1, 2, 3, 4, 5], write the code to slice the list and obtain the sub-list [2, 3]."
   ]
  },
  {
   "cell_type": "code",
   "execution_count": 7,
   "id": "75f53824-291e-4353-a78e-0c8d1c6dba91",
   "metadata": {},
   "outputs": [
    {
     "name": "stdout",
     "output_type": "stream",
     "text": [
      "my_list: [1, 2, 3, 4, 5]\n",
      "sub_list: [2, 3]\n"
     ]
    }
   ],
   "source": [
    "my_list = [1,2,3,4,5]\n",
    "sub_list = my_list[1:3]\n",
    "print(\"my_list:\",my_list)\n",
    "print(\"sub_list:\",sub_list)"
   ]
  },
  {
   "cell_type": "raw",
   "id": "f496b4f8-22e1-4c30-ab4a-aaadd512e9c9",
   "metadata": {},
   "source": [
    "Q6. What is a complex number in mathematics, and how is it represented in Python ?"
   ]
  },
  {
   "cell_type": "code",
   "execution_count": 8,
   "id": "596b86de-f7bc-4b66-952e-74ef9fae9501",
   "metadata": {},
   "outputs": [
    {
     "name": "stdout",
     "output_type": "stream",
     "text": [
      "A complex number is a number of the form z=a+bj, where i is the imaginary unit, defined as j2=−1.\n",
      "Complex numbers can be used to represent and solve a wide variety of mathematical problems, \n",
      "including problems in physics, engineering, and finance.\n",
      "In Python, complex numbers are represented using the complex() function.\n",
      "\n",
      "Real number: 1.0\n",
      "imaginary number: 2.0\n",
      "\n",
      "z1: (1+2j)\n",
      "z2: (3+4j)\n",
      "Sum of z1 an z2 : (4+6j)\n"
     ]
    }
   ],
   "source": [
    "print('''A complex number is a number of the form z=a+bj, where i is the imaginary unit, defined as j2=−1.\n",
    "Complex numbers can be used to represent and solve a wide variety of mathematical problems, \n",
    "including problems in physics, engineering, and finance.''')\n",
    "\n",
    "print(\"In Python, complex numbers are represented using the complex() function.\\n\")\n",
    "z = complex(\"1+2j\")\n",
    "print(\"Real number:\",z.real)  \n",
    "print(\"imaginary number:\",z.imag)  \n",
    "\n",
    "z1 = complex(1, 2)\n",
    "z2 = complex(3, 4)\n",
    "print(\"\\nz1:\",z1)\n",
    "print(\"z2:\",z2)\n",
    "z3 = z1 + z2\n",
    "print(\"Sum of z1 an z2 :\",z3)  "
   ]
  },
  {
   "cell_type": "raw",
   "id": "960f8406-80a4-48d8-92a4-9d80f54934aa",
   "metadata": {},
   "source": [
    "Q7. What is the correct way to declare a variable named age and assign the value 25 to it ?"
   ]
  },
  {
   "cell_type": "code",
   "execution_count": 9,
   "id": "6b391fa9-e09f-4a57-9d2a-e4fd5bcb9fd4",
   "metadata": {},
   "outputs": [
    {
     "name": "stdout",
     "output_type": "stream",
     "text": [
      "25\n"
     ]
    }
   ],
   "source": [
    "#The correct way to declare a variable named age and assign the value 25 to it in Python is:\n",
    "\n",
    "age = 25\n",
    "print(age)"
   ]
  },
  {
   "cell_type": "raw",
   "id": "a9527bee-59ba-4126-9c52-7d73f07ba162",
   "metadata": {},
   "source": [
    "Q8. Declare a variable named price and assign the value 9.99 to it. What data type does this variable\n",
    "belong to ?"
   ]
  },
  {
   "cell_type": "code",
   "execution_count": 10,
   "id": "17a2997a-2c14-4270-9447-c69a4e0567a7",
   "metadata": {},
   "outputs": [
    {
     "data": {
      "text/plain": [
       "float"
      ]
     },
     "execution_count": 10,
     "metadata": {},
     "output_type": "execute_result"
    }
   ],
   "source": [
    "price=9.99\n",
    "type(price)"
   ]
  },
  {
   "cell_type": "code",
   "execution_count": 11,
   "id": "f6db91a6-381d-4b0e-8e0f-2df3ed409c77",
   "metadata": {},
   "outputs": [
    {
     "name": "stdout",
     "output_type": "stream",
     "text": [
      "Data type of Price is: <class 'float'>\n"
     ]
    }
   ],
   "source": [
    "Price =9.99\n",
    "print(\"Data type of Price is:\",type(Price))"
   ]
  },
  {
   "cell_type": "raw",
   "id": "d15b79d4-f84a-481e-a0b6-74df8c98f54f",
   "metadata": {},
   "source": [
    "Q9. Create a variable named name and assign your full name to it as a string. How would you print the\n",
    "value of this variable ?"
   ]
  },
  {
   "cell_type": "code",
   "execution_count": 12,
   "id": "2604c859-eb6e-4132-a62a-321dabefdf59",
   "metadata": {},
   "outputs": [
    {
     "name": "stdout",
     "output_type": "stream",
     "text": [
      "Pratham Lute\n"
     ]
    }
   ],
   "source": [
    "name='Pratham Lute'\n",
    "print(name)"
   ]
  },
  {
   "cell_type": "raw",
   "id": "d237caeb-fd5a-4359-bba0-c6e40ef9b22e",
   "metadata": {},
   "source": [
    "\n",
    "10] Given the string \"Hello, World!\", extract the substring \"World\"."
   ]
  },
  {
   "cell_type": "code",
   "execution_count": 15,
   "id": "c5721e68-332f-4121-b9c3-62849d4d3b04",
   "metadata": {},
   "outputs": [
    {
     "name": "stdout",
     "output_type": "stream",
     "text": [
      "String: Hello,World!\n",
      "Substring: World\n"
     ]
    }
   ],
   "source": [
    "String = \"Hello,World!\"\n",
    "print(\"String:\",String)\n",
    "Su = S[6:11]\n",
    "print(\"Substring:\",Su)\n"
   ]
  },
  {
   "cell_type": "raw",
   "id": "596f8d87-74f5-4543-b297-65afd1df2912",
   "metadata": {},
   "source": [
    "\n",
    "Q11. Create a variable named \"is_student\" and assign it a boolean value indicating whether you are\n",
    "currently a student or not."
   ]
  },
  {
   "cell_type": "code",
   "execution_count": 20,
   "id": "a43f2550-64f0-4c28-a65b-429ca6eec08a",
   "metadata": {},
   "outputs": [
    {
     "name": "stdout",
     "output_type": "stream",
     "text": [
      "you are student \n",
      "  True\n"
     ]
    }
   ],
   "source": [
    "is_student= True\n",
    "print (\"you are student \\n \",  is_student)"
   ]
  },
  {
   "cell_type": "code",
   "execution_count": null,
   "id": "a77e0b10-1e96-4ec5-a0bc-019bc018a67c",
   "metadata": {},
   "outputs": [],
   "source": []
  }
 ],
 "metadata": {
  "kernelspec": {
   "display_name": "Python 3 (ipykernel)",
   "language": "python",
   "name": "python3"
  },
  "language_info": {
   "codemirror_mode": {
    "name": "ipython",
    "version": 3
   },
   "file_extension": ".py",
   "mimetype": "text/x-python",
   "name": "python",
   "nbconvert_exporter": "python",
   "pygments_lexer": "ipython3",
   "version": "3.10.8"
  }
 },
 "nbformat": 4,
 "nbformat_minor": 5
}
